{
 "cells": [
  {
   "cell_type": "markdown",
   "metadata": {
    "tags": []
   },
   "source": [
    "# Notebook Preamble"
   ]
  },
  {
   "cell_type": "markdown",
   "metadata": {},
   "source": [
    "## IPython Magic"
   ]
  },
  {
   "cell_type": "code",
   "execution_count": 1,
   "metadata": {},
   "outputs": [],
   "source": [
    "%load_ext autoreload\n",
    "%autoreload 3"
   ]
  },
  {
   "cell_type": "markdown",
   "metadata": {
    "tags": []
   },
   "source": [
    "## Notebook Imports"
   ]
  },
  {
   "cell_type": "code",
   "execution_count": 2,
   "metadata": {},
   "outputs": [],
   "source": [
    "# Standard Library Imports\n",
    "import logging\n",
    "import os\n",
    "import sys\n",
    "from pathlib import Path\n",
    "\n",
    "# We need to set these environment variables prior to importing our intake catalog.\n",
    "# You can also set them in your own shell environment instead.\n",
    "os.environ[\"PUDL_INTAKE_CACHE\"] = str(Path.home() / \".cache/intake-pudl\")\n",
    "\n",
    "# The fastest remote data, requires authentication for now.\n",
    "os.environ[\"PUDL_INTAKE_PATH\"] = \"gcs://catalyst.coop/intake/test\"\n",
    "\n",
    "# Available to the anonymous public, but not yet working\n",
    "#os.environ[\"PUDL_INTAKE_PATH\"] = \"https://storage.googleapis.com/catalyst.coop/intake/test\"\n",
    "\n",
    "# Local data if you've got it!\n",
    "# os.environ[\"PUDL_INTAKE_PATH\"] = str(Path.cwd().parent() / \"data\")\n",
    "\n",
    "# 3rd Party Imports:\n",
    "import intake\n",
    "import pandas as pd\n",
    "from pudl_catalog.helpers import year_state_filter\n",
    "\n",
    "TEST_YEARS = [2019, 2020]\n",
    "TEST_STATES = [\"ID\", \"CO\", \"TX\"]"
   ]
  },
  {
   "cell_type": "markdown",
   "metadata": {},
   "source": [
    "## Set up a logger"
   ]
  },
  {
   "cell_type": "code",
   "execution_count": 3,
   "metadata": {},
   "outputs": [],
   "source": [
    "logger = logging.getLogger()\n",
    "logger.setLevel(logging.INFO)\n",
    "handler = logging.StreamHandler(stream=sys.stdout)\n",
    "formatter = logging.Formatter(\"%(message)s\")\n",
    "handler.setFormatter(formatter)\n",
    "logger.handlers = [handler]"
   ]
  },
  {
   "cell_type": "markdown",
   "metadata": {},
   "source": [
    "# Potential benefits of Intake catalogs:\n",
    "**Expose metadata:** The Intake catalog doesn't contain any column-level metadata, but I think it could. This would allow a user to see what columns were available, what their types were, and read their descriptions before querying the large dataset.\n",
    "\n",
    "**Local data caching:** Local file caching is not available. We would expect this to make using many small files more efficient for repeated access, since they would each only need to be transmitted over the network once. However, `fsspec` based file caching hasn't yet been implemented in the `intake-parquet` library.\n",
    "\n",
    "**Data packaging:** The catalog can be packaged and versioned using conda to manage its dependencies on other software packages and ensure compatibility. With remote access or automatic local file caching, the user also doesn't need to think about where the data is being stored, or putting it in the \"right place\" -- Intake would manage that.\n",
    "\n",
    "**Uniform API:** All the data sources of a given type (parquet, SQL) would have the same interface, reducing the number of things a user needs to remember to access the data.\n",
    "\n",
    "**Decoupling data storage location:** As with DNS, we can change / update the location where the data is being stored without impacting the user directly, since the catalog acts as a decoupling reference.\n",
    "\n",
    "## Intake References\n",
    "* [Intake Documentations](https://intake.readthedocs.io/en/latest/start.html)\n",
    "* [Intake Examples](https://github.com/intake/intake-examples)\n",
    "* [CarbonPlan Data Catalogs](https://github.com/carbonplan/data)\n",
    "* [AnacondaCon Presentation Video](https://www.youtube.com/watch?v=oyZJrROQzUs)"
   ]
  },
  {
   "cell_type": "markdown",
   "metadata": {},
   "source": [
    "# Test Intake & Parquet Functionality & Performance\n",
    "\n",
    "This notebook demonstrates several different ways of organizing and accessing the same EPA CEMS data:\n",
    "* Local storage on disk vs. remote storage in Google Cloud Storage buckets\n",
    "* Directly accessing the data via `pandas.read_parquet()` vs. an Intake catalog.\n",
    "* Using one big Parquet file for all data vs. separate small files for each combination of state & year."
   ]
  },
  {
   "cell_type": "markdown",
   "metadata": {},
   "source": [
    "## Data for local catalog testing\n",
    "Download these files and place it in the `data` directory at the top level of the repo. Make sure you extract the tarball.\n",
    "* Single Parquet file: https://storage.googleapis.com/catalyst.coop/intake/test/hourly_emissions_epacems.parquet\n",
    "* Year-state partitioned data: https://storage.googleapis.com/catalyst.coop/intake/test/hourly_emissions_epacems.tar"
   ]
  },
  {
   "cell_type": "markdown",
   "metadata": {},
   "source": [
    "## What Intake data sources are installed?"
   ]
  },
  {
   "cell_type": "code",
   "execution_count": 4,
   "metadata": {},
   "outputs": [
    {
     "data": {
      "text/plain": [
       "['hourly_emissions_epacems',\n",
       " 'hourly_emissions_epacems_partitioned',\n",
       " 'pudl_cat']"
      ]
     },
     "execution_count": 4,
     "metadata": {},
     "output_type": "execute_result"
    }
   ],
   "source": [
    "list(intake.cat)"
   ]
  },
  {
   "cell_type": "code",
   "execution_count": 5,
   "metadata": {},
   "outputs": [
    {
     "data": {
      "text/plain": [
       "['hourly_emissions_epacems', 'hourly_emissions_epacems_partitioned']"
      ]
     },
     "execution_count": 5,
     "metadata": {},
     "output_type": "execute_result"
    }
   ],
   "source": [
    "pudl_cat = intake.cat.pudl_cat\n",
    "list(pudl_cat)"
   ]
  },
  {
   "cell_type": "code",
   "execution_count": 6,
   "metadata": {},
   "outputs": [
    {
     "data": {
      "application/yaml": "pudl_cat:\n  args:\n    path: /home/zane/code/catalyst/pudl-data-catalog/src/pudl_catalog/pudl_catalog.yaml\n  description: A catalog of open energy system data for use by climate advocates,\n    policymakers, journalists, researchers, and other members of civil society.\n  driver: intake.catalog.local.YAMLFileCatalog\n  metadata:\n    creator:\n      email: pudl@catalyst.coop\n      path: https://catalyst.coop\n      title: Catalyst Cooperative\n",
      "text/plain": [
       "pudl_cat:\n",
       "  args:\n",
       "    path: /home/zane/code/catalyst/pudl-data-catalog/src/pudl_catalog/pudl_catalog.yaml\n",
       "  description: A catalog of open energy system data for use by climate advocates,\n",
       "    policymakers, journalists, researchers, and other members of civil society.\n",
       "  driver: intake.catalog.local.YAMLFileCatalog\n",
       "  metadata:\n",
       "    creator:\n",
       "      email: pudl@catalyst.coop\n",
       "      path: https://catalyst.coop\n",
       "      title: Catalyst Cooperative\n"
      ]
     },
     "metadata": {
      "application/json": {
       "root": "pudl_cat"
      }
     },
     "output_type": "display_data"
    }
   ],
   "source": [
    "pudl_cat"
   ]
  },
  {
   "cell_type": "code",
   "execution_count": 7,
   "metadata": {},
   "outputs": [
    {
     "data": {
      "application/yaml": "hourly_emissions_epacems:\n  args:\n    engine: pyarrow\n    storage_options:\n      simplecache:\n        cache_storage: /home/zane/.cache/intake-pudl\n    urlpath: simplecache::gcs://catalyst.coop/intake/test/hourly_emissions_epacems.parquet\n  description: Hourly pollution emissions and plant operational data reported via\n    Continuous Emissions Monitoring Systems (CEMS) as required by 40 CFR Part 75.\n    Includes CO2, NOx, and SO2, as well as the heat content of fuel consumed and gross\n    power output. Hourly values reported by US EIA ORISPL code and emissions unit\n    (smokestack) ID.\n  driver: intake_parquet.source.ParquetSource\n  metadata:\n    catalog_dir: /home/zane/code/catalyst/pudl-data-catalog/src/pudl_catalog/\n    license:\n      name: CC-BY-4.0\n      path: https://creativecommons.org/licenses/by/4.0\n      title: Creative Commons Attribution 4.0\n    path: https://ampd.epa.gov/ampd\n    provider: US Environmental Protection Agency Air Markets Program\n    title: Continuous Emissions Monitoring System (CEMS) Hourly Data\n    type: application/parquet\n",
      "text/plain": [
       "hourly_emissions_epacems:\n",
       "  args:\n",
       "    engine: pyarrow\n",
       "    storage_options:\n",
       "      simplecache:\n",
       "        cache_storage: /home/zane/.cache/intake-pudl\n",
       "    urlpath: simplecache::gcs://catalyst.coop/intake/test/hourly_emissions_epacems.parquet\n",
       "  description: Hourly pollution emissions and plant operational data reported via\n",
       "    Continuous Emissions Monitoring Systems (CEMS) as required by 40 CFR Part 75.\n",
       "    Includes CO2, NOx, and SO2, as well as the heat content of fuel consumed and gross\n",
       "    power output. Hourly values reported by US EIA ORISPL code and emissions unit\n",
       "    (smokestack) ID.\n",
       "  driver: intake_parquet.source.ParquetSource\n",
       "  metadata:\n",
       "    catalog_dir: /home/zane/code/catalyst/pudl-data-catalog/src/pudl_catalog/\n",
       "    license:\n",
       "      name: CC-BY-4.0\n",
       "      path: https://creativecommons.org/licenses/by/4.0\n",
       "      title: Creative Commons Attribution 4.0\n",
       "    path: https://ampd.epa.gov/ampd\n",
       "    provider: US Environmental Protection Agency Air Markets Program\n",
       "    title: Continuous Emissions Monitoring System (CEMS) Hourly Data\n",
       "    type: application/parquet\n"
      ]
     },
     "metadata": {
      "application/json": {
       "root": "hourly_emissions_epacems"
      }
     },
     "output_type": "display_data"
    }
   ],
   "source": [
    "pudl_cat.hourly_emissions_epacems"
   ]
  },
  {
   "cell_type": "code",
   "execution_count": 8,
   "metadata": {},
   "outputs": [
    {
     "data": {
      "text/plain": [
       "{'name': 'hourly_emissions_epacems',\n",
       " 'container': 'dataframe',\n",
       " 'plugin': ['parquet'],\n",
       " 'driver': ['parquet'],\n",
       " 'description': 'Hourly pollution emissions and plant operational data reported via Continuous Emissions Monitoring Systems (CEMS) as required by 40 CFR Part 75. Includes CO2, NOx, and SO2, as well as the heat content of fuel consumed and gross power output. Hourly values reported by US EIA ORISPL code and emissions unit (smokestack) ID.',\n",
       " 'direct_access': 'forbid',\n",
       " 'user_parameters': [],\n",
       " 'metadata': {'title': 'Continuous Emissions Monitoring System (CEMS) Hourly Data',\n",
       "  'type': 'application/parquet',\n",
       "  'provider': 'US Environmental Protection Agency Air Markets Program',\n",
       "  'path': 'https://ampd.epa.gov/ampd',\n",
       "  'license': {'name': 'CC-BY-4.0',\n",
       "   'title': 'Creative Commons Attribution 4.0',\n",
       "   'path': 'https://creativecommons.org/licenses/by/4.0'}},\n",
       " 'args': {'engine': 'pyarrow',\n",
       "  'urlpath': 'simplecache::{{ env(PUDL_INTAKE_PATH) }}/hourly_emissions_epacems.parquet',\n",
       "  'storage_options': {'simplecache': {'cache_storage': '{{ env(PUDL_INTAKE_CACHE) }}'}}}}"
      ]
     },
     "execution_count": 8,
     "metadata": {},
     "output_type": "execute_result"
    }
   ],
   "source": [
    "pudl_cat.hourly_emissions_epacems.describe()"
   ]
  },
  {
   "cell_type": "markdown",
   "metadata": {},
   "source": [
    "### Parquet metdata with `discover()`\n",
    "* Categorical values showing up as integers.\n",
    "* String values showing up as objects.\n",
    "* No length in the shape, but 19 columns.\n",
    "* `npartitions` is apparently referring to file, not row-group based partitions."
   ]
  },
  {
   "cell_type": "code",
   "execution_count": 9,
   "metadata": {},
   "outputs": [
    {
     "data": {
      "text/plain": [
       "{'dtype': {'plant_id_eia': 'int32',\n",
       "  'unitid': 'object',\n",
       "  'operating_datetime_utc': 'datetime64[ns, UTC]',\n",
       "  'year': 'int32',\n",
       "  'state': 'int64',\n",
       "  'facility_id': 'int32',\n",
       "  'unit_id_epa': 'object',\n",
       "  'operating_time_hours': 'float32',\n",
       "  'gross_load_mw': 'float32',\n",
       "  'heat_content_mmbtu': 'float32',\n",
       "  'steam_load_1000_lbs': 'float32',\n",
       "  'so2_mass_lbs': 'float32',\n",
       "  'so2_mass_measurement_code': 'int64',\n",
       "  'nox_rate_lbs_mmbtu': 'float32',\n",
       "  'nox_rate_measurement_code': 'int64',\n",
       "  'nox_mass_lbs': 'float32',\n",
       "  'nox_mass_measurement_code': 'int64',\n",
       "  'co2_mass_tons': 'float32',\n",
       "  'co2_mass_measurement_code': 'int64'},\n",
       " 'shape': (None, 19),\n",
       " 'npartitions': 1,\n",
       " 'metadata': {'title': 'Continuous Emissions Monitoring System (CEMS) Hourly Data',\n",
       "  'type': 'application/parquet',\n",
       "  'provider': 'US Environmental Protection Agency Air Markets Program',\n",
       "  'path': 'https://ampd.epa.gov/ampd',\n",
       "  'license': {'name': 'CC-BY-4.0',\n",
       "   'title': 'Creative Commons Attribution 4.0',\n",
       "   'path': 'https://creativecommons.org/licenses/by/4.0'},\n",
       "  'catalog_dir': '/home/zane/code/catalyst/pudl-data-catalog/src/pudl_catalog/'}}"
      ]
     },
     "execution_count": 9,
     "metadata": {},
     "output_type": "execute_result"
    }
   ],
   "source": [
    "pudl_cat.hourly_emissions_epacems.discover()"
   ]
  },
  {
   "cell_type": "markdown",
   "metadata": {},
   "source": [
    "### Partitioned metadata with `discover()`\n",
    "* Same issues as above.\n",
    "* How do we get information about how the partitions are structured in here? How long they each are?\n",
    "* For some reason this cell takes forever to run, and results in a bunch of network traffic"
   ]
  },
  {
   "cell_type": "code",
   "execution_count": 10,
   "metadata": {},
   "outputs": [
    {
     "data": {
      "text/plain": [
       "{'dtype': {'plant_id_eia': 'int32',\n",
       "  'unitid': 'object',\n",
       "  'operating_datetime_utc': 'datetime64[ns, UTC]',\n",
       "  'year': 'int32',\n",
       "  'state': 'int64',\n",
       "  'facility_id': 'int32',\n",
       "  'unit_id_epa': 'object',\n",
       "  'operating_time_hours': 'float32',\n",
       "  'gross_load_mw': 'float32',\n",
       "  'heat_content_mmbtu': 'float32',\n",
       "  'steam_load_1000_lbs': 'float32',\n",
       "  'so2_mass_lbs': 'float32',\n",
       "  'so2_mass_measurement_code': 'int64',\n",
       "  'nox_rate_lbs_mmbtu': 'float32',\n",
       "  'nox_rate_measurement_code': 'int64',\n",
       "  'nox_mass_lbs': 'float32',\n",
       "  'nox_mass_measurement_code': 'int64',\n",
       "  'co2_mass_tons': 'float32',\n",
       "  'co2_mass_measurement_code': 'int64'},\n",
       " 'shape': (None, 19),\n",
       " 'npartitions': 1274,\n",
       " 'metadata': {'title': 'Continuous Emissions Monitoring System (CEMS) Hourly Data',\n",
       "  'type': 'application/parquet',\n",
       "  'provider': 'US Environmental Protection Agency Air Markets Program',\n",
       "  'path': 'https://ampd.epa.gov/ampd',\n",
       "  'license': {'name': 'CC-BY-4.0',\n",
       "   'title': 'Creative Commons Attribution 4.0',\n",
       "   'path': 'https://creativecommons.org/licenses/by/4.0'},\n",
       "  'catalog_dir': '/home/zane/code/catalyst/pudl-data-catalog/src/pudl_catalog/'}}"
      ]
     },
     "execution_count": 10,
     "metadata": {},
     "output_type": "execute_result"
    }
   ],
   "source": [
    "pudl_cat.hourly_emissions_epacems_partitioned.discover()"
   ]
  },
  {
   "cell_type": "markdown",
   "metadata": {},
   "source": [
    "## Normal usage"
   ]
  },
  {
   "cell_type": "code",
   "execution_count": 11,
   "metadata": {},
   "outputs": [
    {
     "name": "stdout",
     "output_type": "stream",
     "text": [
      "Reading data from gcs://catalyst.coop/intake/test\n"
     ]
    },
    {
     "data": {
      "text/plain": [
       "[[('year', '=', 2019), ('state', '=', 'ID')],\n",
       " [('year', '=', 2019), ('state', '=', 'CO')],\n",
       " [('year', '=', 2019), ('state', '=', 'TX')],\n",
       " [('year', '=', 2020), ('state', '=', 'ID')],\n",
       " [('year', '=', 2020), ('state', '=', 'CO')],\n",
       " [('year', '=', 2020), ('state', '=', 'TX')]]"
      ]
     },
     "metadata": {},
     "output_type": "display_data"
    },
    {
     "name": "stdout",
     "output_type": "stream",
     "text": [
      "CPU times: user 4.05 s, sys: 3.11 s, total: 7.15 s\n",
      "Wall time: 7 s\n"
     ]
    }
   ],
   "source": [
    "%%time\n",
    "print(f\"Reading data from {os.getenv('PUDL_INTAKE_PATH')}\")\n",
    "filters = year_state_filter(\n",
    "    years=TEST_YEARS,\n",
    "    states=TEST_STATES,\n",
    ")\n",
    "display(filters)\n",
    "epacems_df = (\n",
    "    pudl_cat.hourly_emissions_epacems(filters=filters)\n",
    "    .to_dask().compute()\n",
    ")"
   ]
  },
  {
   "cell_type": "code",
   "execution_count": 12,
   "metadata": {},
   "outputs": [
    {
     "data": {
      "text/html": [
       "<div>\n",
       "<style scoped>\n",
       "    .dataframe tbody tr th:only-of-type {\n",
       "        vertical-align: middle;\n",
       "    }\n",
       "\n",
       "    .dataframe tbody tr th {\n",
       "        vertical-align: top;\n",
       "    }\n",
       "\n",
       "    .dataframe thead th {\n",
       "        text-align: right;\n",
       "    }\n",
       "</style>\n",
       "<table border=\"1\" class=\"dataframe\">\n",
       "  <thead>\n",
       "    <tr style=\"text-align: right;\">\n",
       "      <th></th>\n",
       "      <th>plant_id_eia</th>\n",
       "      <th>unitid</th>\n",
       "      <th>operating_datetime_utc</th>\n",
       "      <th>year</th>\n",
       "      <th>state</th>\n",
       "      <th>facility_id</th>\n",
       "      <th>unit_id_epa</th>\n",
       "      <th>operating_time_hours</th>\n",
       "      <th>gross_load_mw</th>\n",
       "      <th>heat_content_mmbtu</th>\n",
       "      <th>steam_load_1000_lbs</th>\n",
       "      <th>so2_mass_lbs</th>\n",
       "      <th>so2_mass_measurement_code</th>\n",
       "      <th>nox_rate_lbs_mmbtu</th>\n",
       "      <th>nox_rate_measurement_code</th>\n",
       "      <th>nox_mass_lbs</th>\n",
       "      <th>nox_mass_measurement_code</th>\n",
       "      <th>co2_mass_tons</th>\n",
       "      <th>co2_mass_measurement_code</th>\n",
       "    </tr>\n",
       "  </thead>\n",
       "  <tbody>\n",
       "    <tr>\n",
       "      <th>0</th>\n",
       "      <td>469</td>\n",
       "      <td>4</td>\n",
       "      <td>2019-01-01 07:00:00+00:00</td>\n",
       "      <td>2019</td>\n",
       "      <td>CO</td>\n",
       "      <td>79</td>\n",
       "      <td>298</td>\n",
       "      <td>1.0</td>\n",
       "      <td>203.0</td>\n",
       "      <td>2146.199951</td>\n",
       "      <td>NaN</td>\n",
       "      <td>1.3</td>\n",
       "      <td>Measured</td>\n",
       "      <td>0.061</td>\n",
       "      <td>Measured</td>\n",
       "      <td>130.917999</td>\n",
       "      <td>Calculated</td>\n",
       "      <td>127.199997</td>\n",
       "      <td>Measured</td>\n",
       "    </tr>\n",
       "    <tr>\n",
       "      <th>1</th>\n",
       "      <td>469</td>\n",
       "      <td>4</td>\n",
       "      <td>2019-01-01 08:00:00+00:00</td>\n",
       "      <td>2019</td>\n",
       "      <td>CO</td>\n",
       "      <td>79</td>\n",
       "      <td>298</td>\n",
       "      <td>1.0</td>\n",
       "      <td>203.0</td>\n",
       "      <td>2152.699951</td>\n",
       "      <td>NaN</td>\n",
       "      <td>1.3</td>\n",
       "      <td>Measured</td>\n",
       "      <td>0.061</td>\n",
       "      <td>Measured</td>\n",
       "      <td>131.315002</td>\n",
       "      <td>Calculated</td>\n",
       "      <td>127.599998</td>\n",
       "      <td>Measured</td>\n",
       "    </tr>\n",
       "    <tr>\n",
       "      <th>2</th>\n",
       "      <td>469</td>\n",
       "      <td>4</td>\n",
       "      <td>2019-01-01 09:00:00+00:00</td>\n",
       "      <td>2019</td>\n",
       "      <td>CO</td>\n",
       "      <td>79</td>\n",
       "      <td>298</td>\n",
       "      <td>1.0</td>\n",
       "      <td>204.0</td>\n",
       "      <td>2142.199951</td>\n",
       "      <td>NaN</td>\n",
       "      <td>1.3</td>\n",
       "      <td>Measured</td>\n",
       "      <td>0.061</td>\n",
       "      <td>Measured</td>\n",
       "      <td>130.673996</td>\n",
       "      <td>Calculated</td>\n",
       "      <td>127.000000</td>\n",
       "      <td>Measured</td>\n",
       "    </tr>\n",
       "    <tr>\n",
       "      <th>3</th>\n",
       "      <td>469</td>\n",
       "      <td>4</td>\n",
       "      <td>2019-01-01 10:00:00+00:00</td>\n",
       "      <td>2019</td>\n",
       "      <td>CO</td>\n",
       "      <td>79</td>\n",
       "      <td>298</td>\n",
       "      <td>1.0</td>\n",
       "      <td>204.0</td>\n",
       "      <td>2129.199951</td>\n",
       "      <td>NaN</td>\n",
       "      <td>1.3</td>\n",
       "      <td>Measured</td>\n",
       "      <td>0.061</td>\n",
       "      <td>Measured</td>\n",
       "      <td>129.880997</td>\n",
       "      <td>Calculated</td>\n",
       "      <td>126.199997</td>\n",
       "      <td>Measured</td>\n",
       "    </tr>\n",
       "    <tr>\n",
       "      <th>4</th>\n",
       "      <td>469</td>\n",
       "      <td>4</td>\n",
       "      <td>2019-01-01 11:00:00+00:00</td>\n",
       "      <td>2019</td>\n",
       "      <td>CO</td>\n",
       "      <td>79</td>\n",
       "      <td>298</td>\n",
       "      <td>1.0</td>\n",
       "      <td>204.0</td>\n",
       "      <td>2160.600098</td>\n",
       "      <td>NaN</td>\n",
       "      <td>1.3</td>\n",
       "      <td>Measured</td>\n",
       "      <td>0.061</td>\n",
       "      <td>Measured</td>\n",
       "      <td>131.796997</td>\n",
       "      <td>Calculated</td>\n",
       "      <td>128.100006</td>\n",
       "      <td>Measured</td>\n",
       "    </tr>\n",
       "    <tr>\n",
       "      <th>...</th>\n",
       "      <td>...</td>\n",
       "      <td>...</td>\n",
       "      <td>...</td>\n",
       "      <td>...</td>\n",
       "      <td>...</td>\n",
       "      <td>...</td>\n",
       "      <td>...</td>\n",
       "      <td>...</td>\n",
       "      <td>...</td>\n",
       "      <td>...</td>\n",
       "      <td>...</td>\n",
       "      <td>...</td>\n",
       "      <td>...</td>\n",
       "      <td>...</td>\n",
       "      <td>...</td>\n",
       "      <td>...</td>\n",
       "      <td>...</td>\n",
       "      <td>...</td>\n",
       "      <td>...</td>\n",
       "    </tr>\n",
       "    <tr>\n",
       "      <th>8006419</th>\n",
       "      <td>61242</td>\n",
       "      <td>CT2</td>\n",
       "      <td>2021-01-01 01:00:00+00:00</td>\n",
       "      <td>2020</td>\n",
       "      <td>TX</td>\n",
       "      <td>8435</td>\n",
       "      <td>91229</td>\n",
       "      <td>0.0</td>\n",
       "      <td>0.0</td>\n",
       "      <td>0.000000</td>\n",
       "      <td>NaN</td>\n",
       "      <td>NaN</td>\n",
       "      <td>NaN</td>\n",
       "      <td>NaN</td>\n",
       "      <td>NaN</td>\n",
       "      <td>NaN</td>\n",
       "      <td>NaN</td>\n",
       "      <td>NaN</td>\n",
       "      <td>NaN</td>\n",
       "    </tr>\n",
       "    <tr>\n",
       "      <th>8006420</th>\n",
       "      <td>61242</td>\n",
       "      <td>CT2</td>\n",
       "      <td>2021-01-01 02:00:00+00:00</td>\n",
       "      <td>2020</td>\n",
       "      <td>TX</td>\n",
       "      <td>8435</td>\n",
       "      <td>91229</td>\n",
       "      <td>0.0</td>\n",
       "      <td>0.0</td>\n",
       "      <td>0.000000</td>\n",
       "      <td>NaN</td>\n",
       "      <td>NaN</td>\n",
       "      <td>NaN</td>\n",
       "      <td>NaN</td>\n",
       "      <td>NaN</td>\n",
       "      <td>NaN</td>\n",
       "      <td>NaN</td>\n",
       "      <td>NaN</td>\n",
       "      <td>NaN</td>\n",
       "    </tr>\n",
       "    <tr>\n",
       "      <th>8006421</th>\n",
       "      <td>61242</td>\n",
       "      <td>CT2</td>\n",
       "      <td>2021-01-01 03:00:00+00:00</td>\n",
       "      <td>2020</td>\n",
       "      <td>TX</td>\n",
       "      <td>8435</td>\n",
       "      <td>91229</td>\n",
       "      <td>0.0</td>\n",
       "      <td>0.0</td>\n",
       "      <td>0.000000</td>\n",
       "      <td>NaN</td>\n",
       "      <td>NaN</td>\n",
       "      <td>NaN</td>\n",
       "      <td>NaN</td>\n",
       "      <td>NaN</td>\n",
       "      <td>NaN</td>\n",
       "      <td>NaN</td>\n",
       "      <td>NaN</td>\n",
       "      <td>NaN</td>\n",
       "    </tr>\n",
       "    <tr>\n",
       "      <th>8006422</th>\n",
       "      <td>61242</td>\n",
       "      <td>CT2</td>\n",
       "      <td>2021-01-01 04:00:00+00:00</td>\n",
       "      <td>2020</td>\n",
       "      <td>TX</td>\n",
       "      <td>8435</td>\n",
       "      <td>91229</td>\n",
       "      <td>0.0</td>\n",
       "      <td>0.0</td>\n",
       "      <td>0.000000</td>\n",
       "      <td>NaN</td>\n",
       "      <td>NaN</td>\n",
       "      <td>NaN</td>\n",
       "      <td>NaN</td>\n",
       "      <td>NaN</td>\n",
       "      <td>NaN</td>\n",
       "      <td>NaN</td>\n",
       "      <td>NaN</td>\n",
       "      <td>NaN</td>\n",
       "    </tr>\n",
       "    <tr>\n",
       "      <th>8006423</th>\n",
       "      <td>61242</td>\n",
       "      <td>CT2</td>\n",
       "      <td>2021-01-01 05:00:00+00:00</td>\n",
       "      <td>2020</td>\n",
       "      <td>TX</td>\n",
       "      <td>8435</td>\n",
       "      <td>91229</td>\n",
       "      <td>0.0</td>\n",
       "      <td>0.0</td>\n",
       "      <td>0.000000</td>\n",
       "      <td>NaN</td>\n",
       "      <td>NaN</td>\n",
       "      <td>NaN</td>\n",
       "      <td>NaN</td>\n",
       "      <td>NaN</td>\n",
       "      <td>NaN</td>\n",
       "      <td>NaN</td>\n",
       "      <td>NaN</td>\n",
       "      <td>NaN</td>\n",
       "    </tr>\n",
       "  </tbody>\n",
       "</table>\n",
       "<p>8006424 rows × 19 columns</p>\n",
       "</div>"
      ],
      "text/plain": [
       "         plant_id_eia unitid    operating_datetime_utc  year state  \\\n",
       "0                 469      4 2019-01-01 07:00:00+00:00  2019    CO   \n",
       "1                 469      4 2019-01-01 08:00:00+00:00  2019    CO   \n",
       "2                 469      4 2019-01-01 09:00:00+00:00  2019    CO   \n",
       "3                 469      4 2019-01-01 10:00:00+00:00  2019    CO   \n",
       "4                 469      4 2019-01-01 11:00:00+00:00  2019    CO   \n",
       "...               ...    ...                       ...   ...   ...   \n",
       "8006419         61242    CT2 2021-01-01 01:00:00+00:00  2020    TX   \n",
       "8006420         61242    CT2 2021-01-01 02:00:00+00:00  2020    TX   \n",
       "8006421         61242    CT2 2021-01-01 03:00:00+00:00  2020    TX   \n",
       "8006422         61242    CT2 2021-01-01 04:00:00+00:00  2020    TX   \n",
       "8006423         61242    CT2 2021-01-01 05:00:00+00:00  2020    TX   \n",
       "\n",
       "         facility_id unit_id_epa  operating_time_hours  gross_load_mw  \\\n",
       "0                 79         298                   1.0          203.0   \n",
       "1                 79         298                   1.0          203.0   \n",
       "2                 79         298                   1.0          204.0   \n",
       "3                 79         298                   1.0          204.0   \n",
       "4                 79         298                   1.0          204.0   \n",
       "...              ...         ...                   ...            ...   \n",
       "8006419         8435       91229                   0.0            0.0   \n",
       "8006420         8435       91229                   0.0            0.0   \n",
       "8006421         8435       91229                   0.0            0.0   \n",
       "8006422         8435       91229                   0.0            0.0   \n",
       "8006423         8435       91229                   0.0            0.0   \n",
       "\n",
       "         heat_content_mmbtu  steam_load_1000_lbs  so2_mass_lbs  \\\n",
       "0               2146.199951                  NaN           1.3   \n",
       "1               2152.699951                  NaN           1.3   \n",
       "2               2142.199951                  NaN           1.3   \n",
       "3               2129.199951                  NaN           1.3   \n",
       "4               2160.600098                  NaN           1.3   \n",
       "...                     ...                  ...           ...   \n",
       "8006419            0.000000                  NaN           NaN   \n",
       "8006420            0.000000                  NaN           NaN   \n",
       "8006421            0.000000                  NaN           NaN   \n",
       "8006422            0.000000                  NaN           NaN   \n",
       "8006423            0.000000                  NaN           NaN   \n",
       "\n",
       "        so2_mass_measurement_code  nox_rate_lbs_mmbtu  \\\n",
       "0                        Measured               0.061   \n",
       "1                        Measured               0.061   \n",
       "2                        Measured               0.061   \n",
       "3                        Measured               0.061   \n",
       "4                        Measured               0.061   \n",
       "...                           ...                 ...   \n",
       "8006419                       NaN                 NaN   \n",
       "8006420                       NaN                 NaN   \n",
       "8006421                       NaN                 NaN   \n",
       "8006422                       NaN                 NaN   \n",
       "8006423                       NaN                 NaN   \n",
       "\n",
       "        nox_rate_measurement_code  nox_mass_lbs nox_mass_measurement_code  \\\n",
       "0                        Measured    130.917999                Calculated   \n",
       "1                        Measured    131.315002                Calculated   \n",
       "2                        Measured    130.673996                Calculated   \n",
       "3                        Measured    129.880997                Calculated   \n",
       "4                        Measured    131.796997                Calculated   \n",
       "...                           ...           ...                       ...   \n",
       "8006419                       NaN           NaN                       NaN   \n",
       "8006420                       NaN           NaN                       NaN   \n",
       "8006421                       NaN           NaN                       NaN   \n",
       "8006422                       NaN           NaN                       NaN   \n",
       "8006423                       NaN           NaN                       NaN   \n",
       "\n",
       "         co2_mass_tons co2_mass_measurement_code  \n",
       "0           127.199997                  Measured  \n",
       "1           127.599998                  Measured  \n",
       "2           127.000000                  Measured  \n",
       "3           126.199997                  Measured  \n",
       "4           128.100006                  Measured  \n",
       "...                ...                       ...  \n",
       "8006419            NaN                       NaN  \n",
       "8006420            NaN                       NaN  \n",
       "8006421            NaN                       NaN  \n",
       "8006422            NaN                       NaN  \n",
       "8006423            NaN                       NaN  \n",
       "\n",
       "[8006424 rows x 19 columns]"
      ]
     },
     "execution_count": 12,
     "metadata": {},
     "output_type": "execute_result"
    }
   ],
   "source": [
    "epacems_df"
   ]
  },
  {
   "cell_type": "code",
   "execution_count": 13,
   "metadata": {},
   "outputs": [
    {
     "name": "stdout",
     "output_type": "stream",
     "text": [
      "<class 'pandas.core.frame.DataFrame'>\n",
      "RangeIndex: 8006424 entries, 0 to 8006423\n",
      "Data columns (total 19 columns):\n",
      " #   Column                     Non-Null Count    Dtype              \n",
      "---  ------                     --------------    -----              \n",
      " 0   plant_id_eia               8006424 non-null  int32              \n",
      " 1   unitid                     8006424 non-null  object             \n",
      " 2   operating_datetime_utc     8006424 non-null  datetime64[ns, UTC]\n",
      " 3   year                       8006424 non-null  int32              \n",
      " 4   state                      8006424 non-null  category           \n",
      " 5   facility_id                8006424 non-null  int32              \n",
      " 6   unit_id_epa                8006424 non-null  object             \n",
      " 7   operating_time_hours       8003928 non-null  float32            \n",
      " 8   gross_load_mw              8006424 non-null  float32            \n",
      " 9   heat_content_mmbtu         8006424 non-null  float32            \n",
      " 10  steam_load_1000_lbs        33252 non-null    float32            \n",
      " 11  so2_mass_lbs               3586052 non-null  float32            \n",
      " 12  so2_mass_measurement_code  3586052 non-null  category           \n",
      " 13  nox_rate_lbs_mmbtu         3716001 non-null  float32            \n",
      " 14  nox_rate_measurement_code  3716001 non-null  category           \n",
      " 15  nox_mass_lbs               3716549 non-null  float32            \n",
      " 16  nox_mass_measurement_code  3716549 non-null  category           \n",
      " 17  co2_mass_tons              3688397 non-null  float32            \n",
      " 18  co2_mass_measurement_code  3688397 non-null  category           \n",
      "dtypes: category(5), datetime64[ns, UTC](1), float32(8), int32(3), object(2)\n",
      "memory usage: 1.3 GB\n"
     ]
    }
   ],
   "source": [
    "epacems_df.info(show_counts=True, memory_usage=\"deep\")"
   ]
  },
  {
   "cell_type": "markdown",
   "metadata": {},
   "source": [
    "## Test Performance of different sources"
   ]
  },
  {
   "cell_type": "code",
   "execution_count": 14,
   "metadata": {},
   "outputs": [],
   "source": [
    "from pudl_catalog.hourly_emissions_epacems import TestEpaCemsParquet\n",
    "epacems_tester = TestEpaCemsParquet()"
   ]
  },
  {
   "cell_type": "code",
   "execution_count": 15,
   "metadata": {},
   "outputs": [
    {
     "name": "stdout",
     "output_type": "stream",
     "text": [
      "read_parquet, protocol='local', partition=False, years=[2019, 2020], states=['ID', 'CO', 'TX']:\n",
      "    elapsed time: 3.27s\n",
      "read_parquet, protocol='local', partition=True, years=[2019, 2020], states=['ID', 'CO', 'TX']:\n",
      "    elapsed time: 3.57s\n",
      "read_parquet, protocol='gcs', partition=False, years=[2019, 2020], states=['ID', 'CO', 'TX']:\n",
      "    elapsed time: 18.27s\n",
      "read_parquet, protocol='gcs', partition=True, years=[2019, 2020], states=['ID', 'CO', 'TX']:\n",
      "    elapsed time: 42.11s\n"
     ]
    }
   ],
   "source": [
    "epacems_tester.test_direct(years=TEST_YEARS, states=TEST_STATES, verify_df=False)"
   ]
  },
  {
   "cell_type": "code",
   "execution_count": 16,
   "metadata": {},
   "outputs": [
    {
     "name": "stdout",
     "output_type": "stream",
     "text": [
      "read_parquet, protocol='local', partition=False, years=[2019, 2020], states=['ID', 'CO', 'TX']:\n",
      "    elapsed time: 4.66s\n",
      "intake, protocol='local', partition=False, years=[2019, 2020], states=['ID', 'CO', 'TX']:\n",
      "    elapsed time: 8.17s\n",
      "intake, protocol='local', partition=True, years=[2019, 2020], states=['ID', 'CO', 'TX']:\n",
      "    elapsed time: 29.94s\n",
      "intake, protocol='gcs', partition=False, years=[2019, 2020], states=['ID', 'CO', 'TX']:\n",
      "    elapsed time: 10.72s\n",
      "intake, protocol='gcs', partition=True, years=[2019, 2020], states=['ID', 'CO', 'TX']:\n",
      "    elapsed time: 35.96s\n"
     ]
    }
   ],
   "source": [
    "epacems_tester.test_intake(years=TEST_YEARS, states=TEST_STATES, verify_df=False)"
   ]
  },
  {
   "cell_type": "markdown",
   "metadata": {},
   "source": [
    "# Notes\n",
    "* Unsurprisingly, local access is blazing fast regardless of whether it's a single file or many, and while the Intake catalog access takes around 3x as long, it seems fast enough to be plenty usable.\n",
    "* Remote performance using a single file, the `gs://` protocol, and `read_parquet()` was shockingly fast. It took less than 10x as long as direct local access.\n",
    "* Remote performance over `https://` was painfully slow, to the point of being unusable in all uses of Intake. It also seemed to be transmitting far, far more data than in the `gs://` case.\n",
    "* It seems like directories and wildcards can't be used over `https://`? Do we have to enumerate each filename specifically?\n",
    "* My first thought is that some of the issues are related to network speed, but I have 50-100Mbit download speeds, and the amount of data being transmitted varied widely between the different cases.\n",
    "* There are still some data type issues with Intake. Strings get turned into objects, categoricals are integers, nullability isn't preserved. What we see in `source.discover()` doesn't reflect what we get in the output dataframe eventually.\n",
    "* `simplecache::` is working, but it caches file even when we have them locally. Is there some way to avoid that?\n",
    "* `simplecache::` also ends up caching the **entire** dataset on the first access when trying to filter, because every file has to be examined to find out which ones have the relevant row groups. This kind of defeats the purpose of doing the file partitioning and per-file caching. Is this how it's supposed to work?\n",
    "* Working with the partitioned data seems to result in a pretty big performance hit, especially remotely, but not locally what's up with that? Can it not scan only the relevant row groups when working remotely?"
   ]
  },
  {
   "cell_type": "markdown",
   "metadata": {},
   "source": [
    "# Questions\n",
    "* Can non-authenticated users access publicly readable data using `gs://` URLs?\n",
    "* How do we add column-level metadata to the catalog appropriately? Can we get the embedded descriptions to show up?\n",
    "* How do we add information about what's in the different partitions (i.e. split by year and state, allowable values)\n",
    "* Why are we getting jumbled nullable/non-nullable, ints/categories, strings/objects in the types?\n",
    "* Can we explicitly add Pandas metadata to the parquet files when we write them? Why isn't that happening already, they're being written from pandas dataframes."
   ]
  },
  {
   "cell_type": "code",
   "execution_count": null,
   "metadata": {},
   "outputs": [],
   "source": []
  }
 ],
 "metadata": {
  "kernelspec": {
   "display_name": "Python 3 (ipykernel)",
   "language": "python",
   "name": "python3"
  },
  "language_info": {
   "codemirror_mode": {
    "name": "ipython",
    "version": 3
   },
   "file_extension": ".py",
   "mimetype": "text/x-python",
   "name": "python",
   "nbconvert_exporter": "python",
   "pygments_lexer": "ipython3",
   "version": "3.10.4"
  },
  "toc-autonumbering": true
 },
 "nbformat": 4,
 "nbformat_minor": 4
}
