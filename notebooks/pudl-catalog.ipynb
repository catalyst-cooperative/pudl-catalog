{
 "cells": [
  {
   "cell_type": "markdown",
   "metadata": {
    "tags": []
   },
   "source": [
    "# Notebook Preamble"
   ]
  },
  {
   "cell_type": "markdown",
   "metadata": {},
   "source": [
    "## IPython Magic"
   ]
  },
  {
   "cell_type": "code",
   "execution_count": 1,
   "metadata": {},
   "outputs": [],
   "source": [
    "%load_ext autoreload\n",
    "%autoreload 3"
   ]
  },
  {
   "cell_type": "markdown",
   "metadata": {
    "tags": []
   },
   "source": [
    "## Notebook Imports"
   ]
  },
  {
   "cell_type": "code",
   "execution_count": 2,
   "metadata": {},
   "outputs": [],
   "source": [
    "# Standard Library Imports\n",
    "import logging\n",
    "import os\n",
    "import sys\n",
    "from pathlib import Path\n",
    "\n",
    "# We need to set these environment variables prior to importing our intake catalog.\n",
    "# You can also set them in your own shell environment instead.\n",
    "os.environ[\"PUDL_INTAKE_CACHE\"] = str(Path.home() / \".cache/intake\")\n",
    "os.environ[\"PUDL_INTAKE_PATH\"] = \"gs://intake.catalyst.coop/test\"\n",
    "\n",
    "# Local data if you've got it!\n",
    "# os.environ[\"PUDL_INTAKE_PATH\"] = str(Path.cwd().parent() / \"data\")\n",
    "\n",
    "# 3rd Party Imports:\n",
    "import intake\n",
    "import pandas as pd\n",
    "from pudl_catalog.helpers import year_state_filter\n",
    "\n",
    "TEST_YEARS = [2019, 2020]\n",
    "TEST_STATES = [\"ID\", \"CO\", \"TX\"]"
   ]
  },
  {
   "cell_type": "markdown",
   "metadata": {},
   "source": [
    "## Set up a logger"
   ]
  },
  {
   "cell_type": "code",
   "execution_count": 3,
   "metadata": {},
   "outputs": [],
   "source": [
    "logger = logging.getLogger()\n",
    "logger.setLevel(logging.INFO)\n",
    "handler = logging.StreamHandler(stream=sys.stdout)\n",
    "formatter = logging.Formatter(\"%(message)s\")\n",
    "handler.setFormatter(formatter)\n",
    "logger.handlers = [handler]"
   ]
  },
  {
   "cell_type": "markdown",
   "metadata": {},
   "source": [
    "# Test Intake & Parquet Functionality & Performance\n",
    "\n",
    "This notebook demonstrates several different ways of organizing and accessing the same EPA CEMS data:\n",
    "* Local storage on disk vs. remote storage in Google Cloud Storage buckets\n",
    "* Directly accessing the data via `pandas.read_parquet()` vs. an Intake catalog.\n",
    "* Using one big Parquet file for all data vs. separate small files for each combination of state & year."
   ]
  },
  {
   "cell_type": "markdown",
   "metadata": {},
   "source": [
    "## Data for local catalog testing\n",
    "Download these files and place it in the `data` directory at the top level of the repo. Make sure you extract the tarball.\n",
    "* Single Parquet file: https://storage.googleapis.com/catalyst.coop/intake/test/hourly_emissions_epacems.parquet\n",
    "* Year-state partitioned data: https://storage.googleapis.com/catalyst.coop/intake/test/hourly_emissions_epacems.tar"
   ]
  },
  {
   "cell_type": "markdown",
   "metadata": {},
   "source": [
    "## What Intake data sources are installed?"
   ]
  },
  {
   "cell_type": "code",
   "execution_count": 4,
   "metadata": {},
   "outputs": [
    {
     "data": {
      "text/plain": [
       "['pudl_cat']"
      ]
     },
     "execution_count": 4,
     "metadata": {},
     "output_type": "execute_result"
    }
   ],
   "source": [
    "list(intake.cat)"
   ]
  },
  {
   "cell_type": "code",
   "execution_count": 5,
   "metadata": {},
   "outputs": [
    {
     "data": {
      "text/plain": [
       "['hourly_emissions_epacems', 'hourly_emissions_epacems_partitioned']"
      ]
     },
     "execution_count": 5,
     "metadata": {},
     "output_type": "execute_result"
    }
   ],
   "source": [
    "pudl_cat = intake.cat.pudl_cat\n",
    "list(pudl_cat)"
   ]
  },
  {
   "cell_type": "code",
   "execution_count": 6,
   "metadata": {},
   "outputs": [
    {
     "data": {
      "application/yaml": "pudl_cat:\n  args:\n    path: /home/zane/code/catalyst/pudl-catalog/src/pudl_catalog/pudl_catalog.yaml\n  description: A catalog of open energy system data for use by climate advocates,\n    policymakers, journalists, researchers, and other members of civil society.\n  driver: intake.catalog.local.YAMLFileCatalog\n  metadata:\n    creator:\n      email: pudl@catalyst.coop\n      path: https://catalyst.coop\n      title: Catalyst Cooperative\n    parameters:\n      cache_method:\n        allowed:\n        - 'simplecache::'\n        - ''\n        default: 'simplecache::'\n        description: Whether to cache data locally; empty string to disable caching.\n        type: str\n",
      "text/plain": [
       "pudl_cat:\n",
       "  args:\n",
       "    path: /home/zane/code/catalyst/pudl-catalog/src/pudl_catalog/pudl_catalog.yaml\n",
       "  description: A catalog of open energy system data for use by climate advocates,\n",
       "    policymakers, journalists, researchers, and other members of civil society.\n",
       "  driver: intake.catalog.local.YAMLFileCatalog\n",
       "  metadata:\n",
       "    creator:\n",
       "      email: pudl@catalyst.coop\n",
       "      path: https://catalyst.coop\n",
       "      title: Catalyst Cooperative\n",
       "    parameters:\n",
       "      cache_method:\n",
       "        allowed:\n",
       "        - 'simplecache::'\n",
       "        - ''\n",
       "        default: 'simplecache::'\n",
       "        description: Whether to cache data locally; empty string to disable caching.\n",
       "        type: str\n"
      ]
     },
     "metadata": {
      "application/json": {
       "root": "pudl_cat"
      }
     },
     "output_type": "display_data"
    }
   ],
   "source": [
    "pudl_cat"
   ]
  },
  {
   "cell_type": "code",
   "execution_count": 7,
   "metadata": {},
   "outputs": [
    {
     "data": {
      "application/yaml": "hourly_emissions_epacems:\n  args:\n    engine: pyarrow\n    storage_options:\n      simplecache:\n        cache_storage: /home/zane/.cache/intake\n      token: anon\n    urlpath: simplecache::gs://intake.catalyst.coop/test/hourly_emissions_epacems.parquet\n  description: Hourly pollution emissions and plant operational data reported via\n    Continuous Emissions Monitoring Systems (CEMS) as required by 40 CFR Part 75.\n    Includes CO2, NOx, and SO2, as well as the heat content of fuel consumed and gross\n    power output. Hourly values reported by US EIA ORISPL code and emissions unit\n    (smokestack) ID.\n  driver: intake_parquet.source.ParquetSource\n  metadata:\n    catalog_dir: /home/zane/code/catalyst/pudl-catalog/src/pudl_catalog/\n    license:\n      name: CC-BY-4.0\n      path: https://creativecommons.org/licenses/by/4.0\n      title: Creative Commons Attribution 4.0\n    path: https://ampd.epa.gov/ampd\n    provider: US Environmental Protection Agency Air Markets Program\n    title: Continuous Emissions Monitoring System (CEMS) Hourly Data\n    type: application/parquet\n",
      "text/plain": [
       "hourly_emissions_epacems:\n",
       "  args:\n",
       "    engine: pyarrow\n",
       "    storage_options:\n",
       "      simplecache:\n",
       "        cache_storage: /home/zane/.cache/intake\n",
       "      token: anon\n",
       "    urlpath: simplecache::gs://intake.catalyst.coop/test/hourly_emissions_epacems.parquet\n",
       "  description: Hourly pollution emissions and plant operational data reported via\n",
       "    Continuous Emissions Monitoring Systems (CEMS) as required by 40 CFR Part 75.\n",
       "    Includes CO2, NOx, and SO2, as well as the heat content of fuel consumed and gross\n",
       "    power output. Hourly values reported by US EIA ORISPL code and emissions unit\n",
       "    (smokestack) ID.\n",
       "  driver: intake_parquet.source.ParquetSource\n",
       "  metadata:\n",
       "    catalog_dir: /home/zane/code/catalyst/pudl-catalog/src/pudl_catalog/\n",
       "    license:\n",
       "      name: CC-BY-4.0\n",
       "      path: https://creativecommons.org/licenses/by/4.0\n",
       "      title: Creative Commons Attribution 4.0\n",
       "    path: https://ampd.epa.gov/ampd\n",
       "    provider: US Environmental Protection Agency Air Markets Program\n",
       "    title: Continuous Emissions Monitoring System (CEMS) Hourly Data\n",
       "    type: application/parquet\n"
      ]
     },
     "metadata": {
      "application/json": {
       "root": "hourly_emissions_epacems"
      }
     },
     "output_type": "display_data"
    }
   ],
   "source": [
    "pudl_cat.hourly_emissions_epacems"
   ]
  },
  {
   "cell_type": "markdown",
   "metadata": {},
   "source": [
    "### Parquet metadata with `discover()`\n",
    "* Categorical values showing up as integers.\n",
    "* String values showing up as objects.\n",
    "* No length in the shape, but 19 columns.\n",
    "* `npartitions` is apparently referring to file, not row-group based partitions."
   ]
  },
  {
   "cell_type": "code",
   "execution_count": 8,
   "metadata": {},
   "outputs": [
    {
     "name": "stdout",
     "output_type": "stream",
     "text": [
      "CPU times: user 714 ms, sys: 70.6 ms, total: 785 ms\n",
      "Wall time: 1.75 s\n"
     ]
    },
    {
     "data": {
      "text/plain": [
       "{'dtype': {'plant_id_eia': 'int32',\n",
       "  'unitid': 'object',\n",
       "  'operating_datetime_utc': 'datetime64[ns, UTC]',\n",
       "  'year': 'int32',\n",
       "  'state': 'int64',\n",
       "  'facility_id': 'int32',\n",
       "  'unit_id_epa': 'object',\n",
       "  'operating_time_hours': 'float32',\n",
       "  'gross_load_mw': 'float32',\n",
       "  'heat_content_mmbtu': 'float32',\n",
       "  'steam_load_1000_lbs': 'float32',\n",
       "  'so2_mass_lbs': 'float32',\n",
       "  'so2_mass_measurement_code': 'int64',\n",
       "  'nox_rate_lbs_mmbtu': 'float32',\n",
       "  'nox_rate_measurement_code': 'int64',\n",
       "  'nox_mass_lbs': 'float32',\n",
       "  'nox_mass_measurement_code': 'int64',\n",
       "  'co2_mass_tons': 'float32',\n",
       "  'co2_mass_measurement_code': 'int64'},\n",
       " 'shape': (None, 19),\n",
       " 'npartitions': 1,\n",
       " 'metadata': {'title': 'Continuous Emissions Monitoring System (CEMS) Hourly Data',\n",
       "  'type': 'application/parquet',\n",
       "  'provider': 'US Environmental Protection Agency Air Markets Program',\n",
       "  'path': 'https://ampd.epa.gov/ampd',\n",
       "  'license': {'name': 'CC-BY-4.0',\n",
       "   'title': 'Creative Commons Attribution 4.0',\n",
       "   'path': 'https://creativecommons.org/licenses/by/4.0'},\n",
       "  'catalog_dir': '/home/zane/code/catalyst/pudl-catalog/src/pudl_catalog/'}}"
      ]
     },
     "execution_count": 8,
     "metadata": {},
     "output_type": "execute_result"
    }
   ],
   "source": [
    "%%time\n",
    "# This takes forever and downloads the whole dataset\n",
    "pudl_cat.hourly_emissions_epacems.discover()"
   ]
  },
  {
   "cell_type": "markdown",
   "metadata": {},
   "source": [
    "## Normal usage"
   ]
  },
  {
   "cell_type": "code",
   "execution_count": 9,
   "metadata": {},
   "outputs": [
    {
     "name": "stdout",
     "output_type": "stream",
     "text": [
      "Reading data from gs://intake.catalyst.coop/test\n",
      "Caching data to /home/zane/.cache/intake\n"
     ]
    },
    {
     "data": {
      "text/plain": [
       "[[('year', '=', 2019), ('state', '=', 'ID')],\n",
       " [('year', '=', 2019), ('state', '=', 'CO')],\n",
       " [('year', '=', 2019), ('state', '=', 'TX')],\n",
       " [('year', '=', 2020), ('state', '=', 'ID')],\n",
       " [('year', '=', 2020), ('state', '=', 'CO')],\n",
       " [('year', '=', 2020), ('state', '=', 'TX')]]"
      ]
     },
     "metadata": {},
     "output_type": "display_data"
    },
    {
     "name": "stdout",
     "output_type": "stream",
     "text": [
      "CPU times: user 3.21 s, sys: 1.11 s, total: 4.32 s\n",
      "Wall time: 3.86 s\n"
     ]
    }
   ],
   "source": [
    "%%time\n",
    "print(f\"Reading data from {os.getenv('PUDL_INTAKE_PATH')}\")\n",
    "print(f\"Caching data to {os.getenv('PUDL_INTAKE_CACHE')}\")\n",
    "filters = year_state_filter(\n",
    "    years=TEST_YEARS,\n",
    "    states=TEST_STATES,\n",
    ")\n",
    "display(filters)\n",
    "epacems_df = (\n",
    "    pudl_cat.hourly_emissions_epacems(\n",
    "        filters=filters,\n",
    "    )\n",
    "    .to_dask().compute()\n",
    ")"
   ]
  },
  {
   "cell_type": "code",
   "execution_count": 10,
   "metadata": {},
   "outputs": [
    {
     "data": {
      "text/html": [
       "<div>\n",
       "<style scoped>\n",
       "    .dataframe tbody tr th:only-of-type {\n",
       "        vertical-align: middle;\n",
       "    }\n",
       "\n",
       "    .dataframe tbody tr th {\n",
       "        vertical-align: top;\n",
       "    }\n",
       "\n",
       "    .dataframe thead th {\n",
       "        text-align: right;\n",
       "    }\n",
       "</style>\n",
       "<table border=\"1\" class=\"dataframe\">\n",
       "  <thead>\n",
       "    <tr style=\"text-align: right;\">\n",
       "      <th></th>\n",
       "      <th>plant_id_eia</th>\n",
       "      <th>unitid</th>\n",
       "      <th>operating_datetime_utc</th>\n",
       "      <th>year</th>\n",
       "      <th>state</th>\n",
       "      <th>facility_id</th>\n",
       "      <th>unit_id_epa</th>\n",
       "      <th>operating_time_hours</th>\n",
       "      <th>gross_load_mw</th>\n",
       "      <th>heat_content_mmbtu</th>\n",
       "      <th>steam_load_1000_lbs</th>\n",
       "      <th>so2_mass_lbs</th>\n",
       "      <th>so2_mass_measurement_code</th>\n",
       "      <th>nox_rate_lbs_mmbtu</th>\n",
       "      <th>nox_rate_measurement_code</th>\n",
       "      <th>nox_mass_lbs</th>\n",
       "      <th>nox_mass_measurement_code</th>\n",
       "      <th>co2_mass_tons</th>\n",
       "      <th>co2_mass_measurement_code</th>\n",
       "    </tr>\n",
       "  </thead>\n",
       "  <tbody>\n",
       "    <tr>\n",
       "      <th>2536089</th>\n",
       "      <td>55154</td>\n",
       "      <td>2</td>\n",
       "      <td>2019-07-25 15:00:00+00:00</td>\n",
       "      <td>2019</td>\n",
       "      <td>TX</td>\n",
       "      <td>1304</td>\n",
       "      <td>4033</td>\n",
       "      <td>0.0</td>\n",
       "      <td>0.0</td>\n",
       "      <td>0.000000</td>\n",
       "      <td>NaN</td>\n",
       "      <td>NaN</td>\n",
       "      <td>NaN</td>\n",
       "      <td>NaN</td>\n",
       "      <td>NaN</td>\n",
       "      <td>NaN</td>\n",
       "      <td>NaN</td>\n",
       "      <td>NaN</td>\n",
       "      <td>NaN</td>\n",
       "    </tr>\n",
       "    <tr>\n",
       "      <th>1929384</th>\n",
       "      <td>50109</td>\n",
       "      <td>HRSG1</td>\n",
       "      <td>2019-05-04 06:00:00+00:00</td>\n",
       "      <td>2019</td>\n",
       "      <td>TX</td>\n",
       "      <td>8132</td>\n",
       "      <td>89668</td>\n",
       "      <td>0.0</td>\n",
       "      <td>0.0</td>\n",
       "      <td>0.000000</td>\n",
       "      <td>NaN</td>\n",
       "      <td>NaN</td>\n",
       "      <td>NaN</td>\n",
       "      <td>NaN</td>\n",
       "      <td>NaN</td>\n",
       "      <td>NaN</td>\n",
       "      <td>NaN</td>\n",
       "      <td>NaN</td>\n",
       "      <td>NaN</td>\n",
       "    </tr>\n",
       "    <tr>\n",
       "      <th>7073589</th>\n",
       "      <td>55120</td>\n",
       "      <td>CTG-1</td>\n",
       "      <td>2020-09-17 03:00:00+00:00</td>\n",
       "      <td>2020</td>\n",
       "      <td>TX</td>\n",
       "      <td>1280</td>\n",
       "      <td>3945</td>\n",
       "      <td>0.0</td>\n",
       "      <td>0.0</td>\n",
       "      <td>0.000000</td>\n",
       "      <td>NaN</td>\n",
       "      <td>NaN</td>\n",
       "      <td>NaN</td>\n",
       "      <td>NaN</td>\n",
       "      <td>NaN</td>\n",
       "      <td>NaN</td>\n",
       "      <td>NaN</td>\n",
       "      <td>NaN</td>\n",
       "      <td>NaN</td>\n",
       "    </tr>\n",
       "    <tr>\n",
       "      <th>798593</th>\n",
       "      <td>4937</td>\n",
       "      <td>CT-1</td>\n",
       "      <td>2019-01-07 23:00:00+00:00</td>\n",
       "      <td>2019</td>\n",
       "      <td>TX</td>\n",
       "      <td>774</td>\n",
       "      <td>90812</td>\n",
       "      <td>1.0</td>\n",
       "      <td>127.0</td>\n",
       "      <td>1447.900024</td>\n",
       "      <td>NaN</td>\n",
       "      <td>0.869000</td>\n",
       "      <td>Measured</td>\n",
       "      <td>0.005</td>\n",
       "      <td>Measured</td>\n",
       "      <td>7.200000</td>\n",
       "      <td>Measured</td>\n",
       "      <td>86.000000</td>\n",
       "      <td>Measured</td>\n",
       "    </tr>\n",
       "    <tr>\n",
       "      <th>2416671</th>\n",
       "      <td>3548</td>\n",
       "      <td>GT-4A</td>\n",
       "      <td>2019-07-09 21:00:00+00:00</td>\n",
       "      <td>2019</td>\n",
       "      <td>TX</td>\n",
       "      <td>704</td>\n",
       "      <td>89917</td>\n",
       "      <td>1.0</td>\n",
       "      <td>22.0</td>\n",
       "      <td>350.000000</td>\n",
       "      <td>NaN</td>\n",
       "      <td>NaN</td>\n",
       "      <td>NaN</td>\n",
       "      <td>0.700</td>\n",
       "      <td>Calculated</td>\n",
       "      <td>245.000000</td>\n",
       "      <td>LME</td>\n",
       "      <td>NaN</td>\n",
       "      <td>NaN</td>\n",
       "    </tr>\n",
       "    <tr>\n",
       "      <th>3553711</th>\n",
       "      <td>3628</td>\n",
       "      <td>1</td>\n",
       "      <td>2019-11-01 13:00:00+00:00</td>\n",
       "      <td>2019</td>\n",
       "      <td>TX</td>\n",
       "      <td>720</td>\n",
       "      <td>2493</td>\n",
       "      <td>0.0</td>\n",
       "      <td>0.0</td>\n",
       "      <td>0.000000</td>\n",
       "      <td>NaN</td>\n",
       "      <td>NaN</td>\n",
       "      <td>NaN</td>\n",
       "      <td>NaN</td>\n",
       "      <td>NaN</td>\n",
       "      <td>NaN</td>\n",
       "      <td>NaN</td>\n",
       "      <td>NaN</td>\n",
       "      <td>NaN</td>\n",
       "    </tr>\n",
       "    <tr>\n",
       "      <th>3246961</th>\n",
       "      <td>3507</td>\n",
       "      <td>9</td>\n",
       "      <td>2019-10-16 07:00:00+00:00</td>\n",
       "      <td>2019</td>\n",
       "      <td>TX</td>\n",
       "      <td>697</td>\n",
       "      <td>2435</td>\n",
       "      <td>0.0</td>\n",
       "      <td>0.0</td>\n",
       "      <td>0.000000</td>\n",
       "      <td>NaN</td>\n",
       "      <td>NaN</td>\n",
       "      <td>NaN</td>\n",
       "      <td>NaN</td>\n",
       "      <td>NaN</td>\n",
       "      <td>NaN</td>\n",
       "      <td>NaN</td>\n",
       "      <td>NaN</td>\n",
       "      <td>NaN</td>\n",
       "    </tr>\n",
       "    <tr>\n",
       "      <th>6279339</th>\n",
       "      <td>55299</td>\n",
       "      <td>CTG3</td>\n",
       "      <td>2020-06-15 09:00:00+00:00</td>\n",
       "      <td>2020</td>\n",
       "      <td>TX</td>\n",
       "      <td>1411</td>\n",
       "      <td>4479</td>\n",
       "      <td>1.0</td>\n",
       "      <td>261.0</td>\n",
       "      <td>1603.800049</td>\n",
       "      <td>NaN</td>\n",
       "      <td>0.960000</td>\n",
       "      <td>Measured</td>\n",
       "      <td>0.006</td>\n",
       "      <td>Measured</td>\n",
       "      <td>9.600000</td>\n",
       "      <td>Measured</td>\n",
       "      <td>95.300003</td>\n",
       "      <td>Measured</td>\n",
       "    </tr>\n",
       "    <tr>\n",
       "      <th>563711</th>\n",
       "      <td>56445</td>\n",
       "      <td>CT-02</td>\n",
       "      <td>2019-11-15 06:00:00+00:00</td>\n",
       "      <td>2019</td>\n",
       "      <td>CO</td>\n",
       "      <td>8152</td>\n",
       "      <td>89737</td>\n",
       "      <td>0.0</td>\n",
       "      <td>0.0</td>\n",
       "      <td>0.000000</td>\n",
       "      <td>NaN</td>\n",
       "      <td>NaN</td>\n",
       "      <td>NaN</td>\n",
       "      <td>NaN</td>\n",
       "      <td>NaN</td>\n",
       "      <td>NaN</td>\n",
       "      <td>NaN</td>\n",
       "      <td>NaN</td>\n",
       "      <td>NaN</td>\n",
       "    </tr>\n",
       "    <tr>\n",
       "      <th>2564077</th>\n",
       "      <td>55358</td>\n",
       "      <td>CT2</td>\n",
       "      <td>2019-07-13 19:00:00+00:00</td>\n",
       "      <td>2019</td>\n",
       "      <td>TX</td>\n",
       "      <td>1431</td>\n",
       "      <td>4546</td>\n",
       "      <td>1.0</td>\n",
       "      <td>231.0</td>\n",
       "      <td>1625.199951</td>\n",
       "      <td>NaN</td>\n",
       "      <td>1.000000</td>\n",
       "      <td>Substitute</td>\n",
       "      <td>0.011</td>\n",
       "      <td>Measured</td>\n",
       "      <td>17.900000</td>\n",
       "      <td>Measured and Substitute</td>\n",
       "      <td>96.599998</td>\n",
       "      <td>Measured and Substitute</td>\n",
       "    </tr>\n",
       "    <tr>\n",
       "      <th>1534919</th>\n",
       "      <td>3464</td>\n",
       "      <td>GBY74</td>\n",
       "      <td>2019-04-21 05:00:00+00:00</td>\n",
       "      <td>2019</td>\n",
       "      <td>TX</td>\n",
       "      <td>670</td>\n",
       "      <td>89953</td>\n",
       "      <td>0.0</td>\n",
       "      <td>0.0</td>\n",
       "      <td>0.000000</td>\n",
       "      <td>NaN</td>\n",
       "      <td>NaN</td>\n",
       "      <td>NaN</td>\n",
       "      <td>NaN</td>\n",
       "      <td>NaN</td>\n",
       "      <td>NaN</td>\n",
       "      <td>NaN</td>\n",
       "      <td>NaN</td>\n",
       "      <td>NaN</td>\n",
       "    </tr>\n",
       "    <tr>\n",
       "      <th>311725</th>\n",
       "      <td>470</td>\n",
       "      <td>2</td>\n",
       "      <td>2019-07-14 20:00:00+00:00</td>\n",
       "      <td>2019</td>\n",
       "      <td>CO</td>\n",
       "      <td>80</td>\n",
       "      <td>300</td>\n",
       "      <td>1.0</td>\n",
       "      <td>216.0</td>\n",
       "      <td>2410.000000</td>\n",
       "      <td>NaN</td>\n",
       "      <td>114.800003</td>\n",
       "      <td>Measured</td>\n",
       "      <td>0.166</td>\n",
       "      <td>Measured</td>\n",
       "      <td>400.059998</td>\n",
       "      <td>Calculated</td>\n",
       "      <td>243.199997</td>\n",
       "      <td>Measured</td>\n",
       "    </tr>\n",
       "    <tr>\n",
       "      <th>4964755</th>\n",
       "      <td>60460</td>\n",
       "      <td>CT1</td>\n",
       "      <td>2020-01-16 01:00:00+00:00</td>\n",
       "      <td>2020</td>\n",
       "      <td>TX</td>\n",
       "      <td>8417</td>\n",
       "      <td>91152</td>\n",
       "      <td>0.0</td>\n",
       "      <td>0.0</td>\n",
       "      <td>0.000000</td>\n",
       "      <td>NaN</td>\n",
       "      <td>NaN</td>\n",
       "      <td>NaN</td>\n",
       "      <td>NaN</td>\n",
       "      <td>NaN</td>\n",
       "      <td>NaN</td>\n",
       "      <td>NaN</td>\n",
       "      <td>NaN</td>\n",
       "      <td>NaN</td>\n",
       "    </tr>\n",
       "    <tr>\n",
       "      <th>1271925</th>\n",
       "      <td>3470</td>\n",
       "      <td>WAP6</td>\n",
       "      <td>2019-03-07 03:00:00+00:00</td>\n",
       "      <td>2019</td>\n",
       "      <td>TX</td>\n",
       "      <td>675</td>\n",
       "      <td>2379</td>\n",
       "      <td>1.0</td>\n",
       "      <td>179.0</td>\n",
       "      <td>2422.699951</td>\n",
       "      <td>NaN</td>\n",
       "      <td>1632.099976</td>\n",
       "      <td>Measured</td>\n",
       "      <td>0.051</td>\n",
       "      <td>Measured</td>\n",
       "      <td>123.599998</td>\n",
       "      <td>Measured</td>\n",
       "      <td>254.100006</td>\n",
       "      <td>Measured</td>\n",
       "    </tr>\n",
       "    <tr>\n",
       "      <th>945909</th>\n",
       "      <td>56611</td>\n",
       "      <td>S01</td>\n",
       "      <td>2019-01-08 03:00:00+00:00</td>\n",
       "      <td>2019</td>\n",
       "      <td>TX</td>\n",
       "      <td>8297</td>\n",
       "      <td>90551</td>\n",
       "      <td>1.0</td>\n",
       "      <td>801.0</td>\n",
       "      <td>7327.600098</td>\n",
       "      <td>NaN</td>\n",
       "      <td>731.000000</td>\n",
       "      <td>Measured</td>\n",
       "      <td>0.045</td>\n",
       "      <td>Measured</td>\n",
       "      <td>329.700012</td>\n",
       "      <td>Measured</td>\n",
       "      <td>768.500000</td>\n",
       "      <td>Measured</td>\n",
       "    </tr>\n",
       "    <tr>\n",
       "      <th>2911363</th>\n",
       "      <td>3452</td>\n",
       "      <td>1</td>\n",
       "      <td>2019-09-16 01:00:00+00:00</td>\n",
       "      <td>2019</td>\n",
       "      <td>TX</td>\n",
       "      <td>660</td>\n",
       "      <td>2313</td>\n",
       "      <td>0.0</td>\n",
       "      <td>0.0</td>\n",
       "      <td>0.000000</td>\n",
       "      <td>NaN</td>\n",
       "      <td>NaN</td>\n",
       "      <td>NaN</td>\n",
       "      <td>NaN</td>\n",
       "      <td>NaN</td>\n",
       "      <td>NaN</td>\n",
       "      <td>NaN</td>\n",
       "      <td>NaN</td>\n",
       "      <td>NaN</td>\n",
       "    </tr>\n",
       "    <tr>\n",
       "      <th>4165692</th>\n",
       "      <td>56998</td>\n",
       "      <td>CT07</td>\n",
       "      <td>2020-03-03 19:00:00+00:00</td>\n",
       "      <td>2020</td>\n",
       "      <td>CO</td>\n",
       "      <td>8289</td>\n",
       "      <td>90560</td>\n",
       "      <td>1.0</td>\n",
       "      <td>19.0</td>\n",
       "      <td>234.699997</td>\n",
       "      <td>NaN</td>\n",
       "      <td>0.141000</td>\n",
       "      <td>Measured</td>\n",
       "      <td>0.005</td>\n",
       "      <td>Measured</td>\n",
       "      <td>1.174000</td>\n",
       "      <td>Calculated</td>\n",
       "      <td>13.900000</td>\n",
       "      <td>Measured</td>\n",
       "    </tr>\n",
       "    <tr>\n",
       "      <th>3552015</th>\n",
       "      <td>3612</td>\n",
       "      <td>CT02</td>\n",
       "      <td>2019-11-20 21:00:00+00:00</td>\n",
       "      <td>2019</td>\n",
       "      <td>TX</td>\n",
       "      <td>717</td>\n",
       "      <td>2485</td>\n",
       "      <td>1.0</td>\n",
       "      <td>222.0</td>\n",
       "      <td>1523.500000</td>\n",
       "      <td>NaN</td>\n",
       "      <td>0.914000</td>\n",
       "      <td>Measured</td>\n",
       "      <td>0.021</td>\n",
       "      <td>Measured</td>\n",
       "      <td>32.000000</td>\n",
       "      <td>Calculated</td>\n",
       "      <td>90.538002</td>\n",
       "      <td>Measured</td>\n",
       "    </tr>\n",
       "    <tr>\n",
       "      <th>1365450</th>\n",
       "      <td>7900</td>\n",
       "      <td>SH3</td>\n",
       "      <td>2019-03-29 00:00:00+00:00</td>\n",
       "      <td>2019</td>\n",
       "      <td>TX</td>\n",
       "      <td>347</td>\n",
       "      <td>1151</td>\n",
       "      <td>0.0</td>\n",
       "      <td>0.0</td>\n",
       "      <td>0.000000</td>\n",
       "      <td>NaN</td>\n",
       "      <td>NaN</td>\n",
       "      <td>NaN</td>\n",
       "      <td>NaN</td>\n",
       "      <td>NaN</td>\n",
       "      <td>NaN</td>\n",
       "      <td>NaN</td>\n",
       "      <td>NaN</td>\n",
       "      <td>NaN</td>\n",
       "    </tr>\n",
       "    <tr>\n",
       "      <th>5587739</th>\n",
       "      <td>3548</td>\n",
       "      <td>GT-1B</td>\n",
       "      <td>2020-04-16 17:00:00+00:00</td>\n",
       "      <td>2020</td>\n",
       "      <td>TX</td>\n",
       "      <td>704</td>\n",
       "      <td>89912</td>\n",
       "      <td>0.0</td>\n",
       "      <td>0.0</td>\n",
       "      <td>0.000000</td>\n",
       "      <td>NaN</td>\n",
       "      <td>NaN</td>\n",
       "      <td>NaN</td>\n",
       "      <td>NaN</td>\n",
       "      <td>NaN</td>\n",
       "      <td>NaN</td>\n",
       "      <td>NaN</td>\n",
       "      <td>NaN</td>\n",
       "      <td>NaN</td>\n",
       "    </tr>\n",
       "  </tbody>\n",
       "</table>\n",
       "</div>"
      ],
      "text/plain": [
       "         plant_id_eia unitid    operating_datetime_utc  year state  \\\n",
       "2536089         55154      2 2019-07-25 15:00:00+00:00  2019    TX   \n",
       "1929384         50109  HRSG1 2019-05-04 06:00:00+00:00  2019    TX   \n",
       "7073589         55120  CTG-1 2020-09-17 03:00:00+00:00  2020    TX   \n",
       "798593           4937   CT-1 2019-01-07 23:00:00+00:00  2019    TX   \n",
       "2416671          3548  GT-4A 2019-07-09 21:00:00+00:00  2019    TX   \n",
       "3553711          3628      1 2019-11-01 13:00:00+00:00  2019    TX   \n",
       "3246961          3507      9 2019-10-16 07:00:00+00:00  2019    TX   \n",
       "6279339         55299   CTG3 2020-06-15 09:00:00+00:00  2020    TX   \n",
       "563711          56445  CT-02 2019-11-15 06:00:00+00:00  2019    CO   \n",
       "2564077         55358    CT2 2019-07-13 19:00:00+00:00  2019    TX   \n",
       "1534919          3464  GBY74 2019-04-21 05:00:00+00:00  2019    TX   \n",
       "311725            470      2 2019-07-14 20:00:00+00:00  2019    CO   \n",
       "4964755         60460    CT1 2020-01-16 01:00:00+00:00  2020    TX   \n",
       "1271925          3470   WAP6 2019-03-07 03:00:00+00:00  2019    TX   \n",
       "945909          56611    S01 2019-01-08 03:00:00+00:00  2019    TX   \n",
       "2911363          3452      1 2019-09-16 01:00:00+00:00  2019    TX   \n",
       "4165692         56998   CT07 2020-03-03 19:00:00+00:00  2020    CO   \n",
       "3552015          3612   CT02 2019-11-20 21:00:00+00:00  2019    TX   \n",
       "1365450          7900    SH3 2019-03-29 00:00:00+00:00  2019    TX   \n",
       "5587739          3548  GT-1B 2020-04-16 17:00:00+00:00  2020    TX   \n",
       "\n",
       "         facility_id unit_id_epa  operating_time_hours  gross_load_mw  \\\n",
       "2536089         1304        4033                   0.0            0.0   \n",
       "1929384         8132       89668                   0.0            0.0   \n",
       "7073589         1280        3945                   0.0            0.0   \n",
       "798593           774       90812                   1.0          127.0   \n",
       "2416671          704       89917                   1.0           22.0   \n",
       "3553711          720        2493                   0.0            0.0   \n",
       "3246961          697        2435                   0.0            0.0   \n",
       "6279339         1411        4479                   1.0          261.0   \n",
       "563711          8152       89737                   0.0            0.0   \n",
       "2564077         1431        4546                   1.0          231.0   \n",
       "1534919          670       89953                   0.0            0.0   \n",
       "311725            80         300                   1.0          216.0   \n",
       "4964755         8417       91152                   0.0            0.0   \n",
       "1271925          675        2379                   1.0          179.0   \n",
       "945909          8297       90551                   1.0          801.0   \n",
       "2911363          660        2313                   0.0            0.0   \n",
       "4165692         8289       90560                   1.0           19.0   \n",
       "3552015          717        2485                   1.0          222.0   \n",
       "1365450          347        1151                   0.0            0.0   \n",
       "5587739          704       89912                   0.0            0.0   \n",
       "\n",
       "         heat_content_mmbtu  steam_load_1000_lbs  so2_mass_lbs  \\\n",
       "2536089            0.000000                  NaN           NaN   \n",
       "1929384            0.000000                  NaN           NaN   \n",
       "7073589            0.000000                  NaN           NaN   \n",
       "798593          1447.900024                  NaN      0.869000   \n",
       "2416671          350.000000                  NaN           NaN   \n",
       "3553711            0.000000                  NaN           NaN   \n",
       "3246961            0.000000                  NaN           NaN   \n",
       "6279339         1603.800049                  NaN      0.960000   \n",
       "563711             0.000000                  NaN           NaN   \n",
       "2564077         1625.199951                  NaN      1.000000   \n",
       "1534919            0.000000                  NaN           NaN   \n",
       "311725          2410.000000                  NaN    114.800003   \n",
       "4964755            0.000000                  NaN           NaN   \n",
       "1271925         2422.699951                  NaN   1632.099976   \n",
       "945909          7327.600098                  NaN    731.000000   \n",
       "2911363            0.000000                  NaN           NaN   \n",
       "4165692          234.699997                  NaN      0.141000   \n",
       "3552015         1523.500000                  NaN      0.914000   \n",
       "1365450            0.000000                  NaN           NaN   \n",
       "5587739            0.000000                  NaN           NaN   \n",
       "\n",
       "        so2_mass_measurement_code  nox_rate_lbs_mmbtu  \\\n",
       "2536089                       NaN                 NaN   \n",
       "1929384                       NaN                 NaN   \n",
       "7073589                       NaN                 NaN   \n",
       "798593                   Measured               0.005   \n",
       "2416671                       NaN               0.700   \n",
       "3553711                       NaN                 NaN   \n",
       "3246961                       NaN                 NaN   \n",
       "6279339                  Measured               0.006   \n",
       "563711                        NaN                 NaN   \n",
       "2564077                Substitute               0.011   \n",
       "1534919                       NaN                 NaN   \n",
       "311725                   Measured               0.166   \n",
       "4964755                       NaN                 NaN   \n",
       "1271925                  Measured               0.051   \n",
       "945909                   Measured               0.045   \n",
       "2911363                       NaN                 NaN   \n",
       "4165692                  Measured               0.005   \n",
       "3552015                  Measured               0.021   \n",
       "1365450                       NaN                 NaN   \n",
       "5587739                       NaN                 NaN   \n",
       "\n",
       "        nox_rate_measurement_code  nox_mass_lbs nox_mass_measurement_code  \\\n",
       "2536089                       NaN           NaN                       NaN   \n",
       "1929384                       NaN           NaN                       NaN   \n",
       "7073589                       NaN           NaN                       NaN   \n",
       "798593                   Measured      7.200000                  Measured   \n",
       "2416671                Calculated    245.000000                       LME   \n",
       "3553711                       NaN           NaN                       NaN   \n",
       "3246961                       NaN           NaN                       NaN   \n",
       "6279339                  Measured      9.600000                  Measured   \n",
       "563711                        NaN           NaN                       NaN   \n",
       "2564077                  Measured     17.900000   Measured and Substitute   \n",
       "1534919                       NaN           NaN                       NaN   \n",
       "311725                   Measured    400.059998                Calculated   \n",
       "4964755                       NaN           NaN                       NaN   \n",
       "1271925                  Measured    123.599998                  Measured   \n",
       "945909                   Measured    329.700012                  Measured   \n",
       "2911363                       NaN           NaN                       NaN   \n",
       "4165692                  Measured      1.174000                Calculated   \n",
       "3552015                  Measured     32.000000                Calculated   \n",
       "1365450                       NaN           NaN                       NaN   \n",
       "5587739                       NaN           NaN                       NaN   \n",
       "\n",
       "         co2_mass_tons co2_mass_measurement_code  \n",
       "2536089            NaN                       NaN  \n",
       "1929384            NaN                       NaN  \n",
       "7073589            NaN                       NaN  \n",
       "798593       86.000000                  Measured  \n",
       "2416671            NaN                       NaN  \n",
       "3553711            NaN                       NaN  \n",
       "3246961            NaN                       NaN  \n",
       "6279339      95.300003                  Measured  \n",
       "563711             NaN                       NaN  \n",
       "2564077      96.599998   Measured and Substitute  \n",
       "1534919            NaN                       NaN  \n",
       "311725      243.199997                  Measured  \n",
       "4964755            NaN                       NaN  \n",
       "1271925     254.100006                  Measured  \n",
       "945909      768.500000                  Measured  \n",
       "2911363            NaN                       NaN  \n",
       "4165692      13.900000                  Measured  \n",
       "3552015      90.538002                  Measured  \n",
       "1365450            NaN                       NaN  \n",
       "5587739            NaN                       NaN  "
      ]
     },
     "execution_count": 10,
     "metadata": {},
     "output_type": "execute_result"
    }
   ],
   "source": [
    "epacems_df.sample(20)"
   ]
  },
  {
   "cell_type": "code",
   "execution_count": 11,
   "metadata": {},
   "outputs": [
    {
     "name": "stdout",
     "output_type": "stream",
     "text": [
      "<class 'pandas.core.frame.DataFrame'>\n",
      "RangeIndex: 8006424 entries, 0 to 8006423\n",
      "Data columns (total 19 columns):\n",
      " #   Column                     Non-Null Count    Dtype              \n",
      "---  ------                     --------------    -----              \n",
      " 0   plant_id_eia               8006424 non-null  int32              \n",
      " 1   unitid                     8006424 non-null  object             \n",
      " 2   operating_datetime_utc     8006424 non-null  datetime64[ns, UTC]\n",
      " 3   year                       8006424 non-null  int32              \n",
      " 4   state                      8006424 non-null  category           \n",
      " 5   facility_id                8006424 non-null  int32              \n",
      " 6   unit_id_epa                8006424 non-null  object             \n",
      " 7   operating_time_hours       8003928 non-null  float32            \n",
      " 8   gross_load_mw              8006424 non-null  float32            \n",
      " 9   heat_content_mmbtu         8006424 non-null  float32            \n",
      " 10  steam_load_1000_lbs        33252 non-null    float32            \n",
      " 11  so2_mass_lbs               3586052 non-null  float32            \n",
      " 12  so2_mass_measurement_code  3586052 non-null  category           \n",
      " 13  nox_rate_lbs_mmbtu         3716001 non-null  float32            \n",
      " 14  nox_rate_measurement_code  3716001 non-null  category           \n",
      " 15  nox_mass_lbs               3716549 non-null  float32            \n",
      " 16  nox_mass_measurement_code  3716549 non-null  category           \n",
      " 17  co2_mass_tons              3688397 non-null  float32            \n",
      " 18  co2_mass_measurement_code  3688397 non-null  category           \n",
      "dtypes: category(5), datetime64[ns, UTC](1), float32(8), int32(3), object(2)\n",
      "memory usage: 1.3 GB\n"
     ]
    }
   ],
   "source": [
    "epacems_df.info(show_counts=True, memory_usage=\"deep\")"
   ]
  },
  {
   "cell_type": "markdown",
   "metadata": {},
   "source": [
    "## Test Performance of different sources"
   ]
  },
  {
   "cell_type": "code",
   "execution_count": 12,
   "metadata": {},
   "outputs": [],
   "source": [
    "from pudl_catalog.hourly_emissions_epacems import TestEpaCemsParquet\n",
    "epacems_tester = TestEpaCemsParquet()"
   ]
  },
  {
   "cell_type": "code",
   "execution_count": 13,
   "metadata": {},
   "outputs": [
    {
     "name": "stdout",
     "output_type": "stream",
     "text": [
      "read_parquet, protocol='local', partition=False, years=[2019, 2020], states=['ID', 'CO', 'TX']:\n",
      "    elapsed time: 2.37s\n",
      "read_parquet, protocol='local', partition=True, years=[2019, 2020], states=['ID', 'CO', 'TX']:\n",
      "    elapsed time: 2.50s\n",
      "read_parquet, protocol='gs', partition=False, years=[2019, 2020], states=['ID', 'CO', 'TX']:\n",
      "    elapsed time: 13.26s\n",
      "read_parquet, protocol='gs', partition=True, years=[2019, 2020], states=['ID', 'CO', 'TX']:\n",
      "    elapsed time: 35.42s\n"
     ]
    }
   ],
   "source": [
    "epacems_tester.test_direct(years=TEST_YEARS, states=TEST_STATES, verify_df=False)"
   ]
  },
  {
   "cell_type": "code",
   "execution_count": 29,
   "metadata": {},
   "outputs": [
    {
     "name": "stdout",
     "output_type": "stream",
     "text": [
      "read_parquet, protocol='local', partition=False, years=[2019, 2020], states=['ID', 'CO', 'TX']:\n",
      "    elapsed time: 2.20s\n",
      "intake, protocol='local', partition=False, years=[2019, 2020], states=['ID', 'CO', 'TX']:\n",
      "    elapsed time: 4.90s\n",
      "intake, protocol='local', partition=True, years=[2019, 2020], states=['ID', 'CO', 'TX']:\n",
      "    elapsed time: 14.31s\n",
      "intake, protocol='gs', partition=False, years=[2019, 2020], states=['ID', 'CO', 'TX']:\n",
      "    elapsed time: 5.20s\n",
      "intake, protocol='gs', partition=True, years=[2019, 2020], states=['ID', 'CO', 'TX']:\n",
      "    elapsed time: 18.26s\n"
     ]
    }
   ],
   "source": [
    "# With locally cached data, the times are similar to direct reads.\n",
    "epacems_tester.test_intake(years=TEST_YEARS, states=TEST_STATES, verify_df=False)"
   ]
  },
  {
   "cell_type": "markdown",
   "metadata": {},
   "source": [
    "### Verify we get the same data"
   ]
  },
  {
   "cell_type": "code",
   "execution_count": 26,
   "metadata": {},
   "outputs": [
    {
     "name": "stdout",
     "output_type": "stream",
     "text": [
      "CPU times: user 84.5 ms, sys: 39.3 ms, total: 124 ms\n",
      "Wall time: 390 ms\n"
     ]
    }
   ],
   "source": [
    "%%time\n",
    "df1 = pd.read_parquet(\"gs://intake.catalyst.coop/test/hourly_emissions_epacems/epacems-2020-ID.parquet\")"
   ]
  },
  {
   "cell_type": "code",
   "execution_count": 27,
   "metadata": {},
   "outputs": [
    {
     "name": "stdout",
     "output_type": "stream",
     "text": [
      "CPU times: user 496 ms, sys: 12.3 ms, total: 509 ms\n",
      "Wall time: 6.21 s\n"
     ]
    }
   ],
   "source": [
    "%%time\n",
    "df2 = pudl_cat.hourly_emissions_epacems(filters=year_state_filter(years=[2020], states=[\"ID\"])).to_dask().compute()"
   ]
  },
  {
   "cell_type": "code",
   "execution_count": 28,
   "metadata": {},
   "outputs": [],
   "source": [
    "pd.testing.assert_frame_equal(df1, df2)"
   ]
  },
  {
   "cell_type": "code",
   "execution_count": 18,
   "metadata": {},
   "outputs": [
    {
     "name": "stdout",
     "output_type": "stream",
     "text": [
      "{   'plant_id_eia': DataType(int32),\n",
      "    'unitid': DataType(string),\n",
      "    'operating_datetime_utc': TimestampType(timestamp[ms, tz=UTC]),\n",
      "    'year': DataType(int32),\n",
      "    'state': DictionaryType(dictionary<values=string, indices=int32, ordered=0>),\n",
      "    'facility_id': DataType(int32),\n",
      "    'unit_id_epa': DataType(string),\n",
      "    'operating_time_hours': DataType(float),\n",
      "    'gross_load_mw': DataType(float),\n",
      "    'heat_content_mmbtu': DataType(float),\n",
      "    'steam_load_1000_lbs': DataType(float),\n",
      "    'so2_mass_lbs': DataType(float),\n",
      "    'so2_mass_measurement_code': DictionaryType(dictionary<values=string, indices=int32, ordered=0>),\n",
      "    'nox_rate_lbs_mmbtu': DataType(float),\n",
      "    'nox_rate_measurement_code': DictionaryType(dictionary<values=string, indices=int32, ordered=0>),\n",
      "    'nox_mass_lbs': DataType(float),\n",
      "    'nox_mass_measurement_code': DictionaryType(dictionary<values=string, indices=int32, ordered=0>),\n",
      "    'co2_mass_tons': DataType(float),\n",
      "    'co2_mass_measurement_code': DictionaryType(dictionary<values=string, indices=int32, ordered=0>)}\n"
     ]
    }
   ],
   "source": [
    "import pyarrow.parquet as pq\n",
    "from pprint import pprint\n",
    "epacems_pq = pq.read_table(\"../data/hourly_emissions_epacems/epacems-2020-ID.parquet\")\n",
    "dtype_dict = {name: dtype for name, dtype in zip(epacems_pq.schema.names, epacems_pq.schema.types)}\n",
    "pprint(dtype_dict, indent=4, sort_dicts=False)"
   ]
  },
  {
   "cell_type": "code",
   "execution_count": 19,
   "metadata": {},
   "outputs": [
    {
     "data": {
      "text/plain": [
       "plant_id_eia: int32 not null\n",
       "  -- field metadata --\n",
       "  description: 'The unique six-digit facility identification number, also' + 69\n",
       "unitid: string not null\n",
       "  -- field metadata --\n",
       "  description: 'Facility-specific unit id (e.g. Unit 4)'\n",
       "operating_datetime_utc: timestamp[ms, tz=UTC] not null\n",
       "  -- field metadata --\n",
       "  description: 'Date and time measurement began (UTC).'\n",
       "year: int32 not null\n",
       "  -- field metadata --\n",
       "  description: 'Year the data was reported in, used for partitioning EPA ' + 5\n",
       "state: dictionary<values=string, indices=int32, ordered=0>\n",
       "  -- field metadata --\n",
       "  description: 'Two letter US state abbreviation.'\n",
       "facility_id: int32\n",
       "  -- field metadata --\n",
       "  description: 'New EPA plant ID.'\n",
       "unit_id_epa: string\n",
       "  -- field metadata --\n",
       "  description: 'Emissions (smokestake) unit monitored by EPA CEMS.'\n",
       "operating_time_hours: float\n",
       "  -- field metadata --\n",
       "  description: 'Length of time interval measured.'\n",
       "gross_load_mw: float not null\n",
       "  -- field metadata --\n",
       "  description: 'Average power in megawatts delivered during time interval' + 10\n",
       "heat_content_mmbtu: float not null\n",
       "  -- field metadata --\n",
       "  description: 'The energy contained in fuel burned, measured in million ' + 4\n",
       "steam_load_1000_lbs: float\n",
       "  -- field metadata --\n",
       "  description: 'Total steam pressure produced by a unit during the report' + 8\n",
       "so2_mass_lbs: float\n",
       "  -- field metadata --\n",
       "  description: 'Sulfur dioxide emissions in pounds.'\n",
       "so2_mass_measurement_code: dictionary<values=string, indices=int32, ordered=0>\n",
       "  -- field metadata --\n",
       "  description: 'Identifies whether the reported value of emissions was me' + 47\n",
       "nox_rate_lbs_mmbtu: float\n",
       "  -- field metadata --\n",
       "  description: 'The average rate at which NOx was emitted during a given ' + 12\n",
       "nox_rate_measurement_code: dictionary<values=string, indices=int32, ordered=0>\n",
       "  -- field metadata --\n",
       "  description: 'Identifies whether the reported value of emissions was me' + 47\n",
       "nox_mass_lbs: float\n",
       "  -- field metadata --\n",
       "  description: 'NOx emissions in pounds.'\n",
       "nox_mass_measurement_code: dictionary<values=string, indices=int32, ordered=0>\n",
       "  -- field metadata --\n",
       "  description: 'Identifies whether the reported value of emissions was me' + 47\n",
       "co2_mass_tons: float\n",
       "  -- field metadata --\n",
       "  description: 'Carbon dioxide emissions in short tons.'\n",
       "co2_mass_measurement_code: dictionary<values=string, indices=int32, ordered=0>\n",
       "  -- field metadata --\n",
       "  description: 'Identifies whether the reported value of emissions was me' + 47\n",
       "-- schema metadata --\n",
       "description: 'Hourly emissions and plant operational data reported via Co' + 68\n",
       "primary_key: 'plant_id_eia,unitid,operating_datetime_utc'"
      ]
     },
     "execution_count": 19,
     "metadata": {},
     "output_type": "execute_result"
    }
   ],
   "source": [
    "epacems_pq.schema"
   ]
  },
  {
   "cell_type": "code",
   "execution_count": 20,
   "metadata": {},
   "outputs": [
    {
     "data": {
      "text/plain": [
       "True"
      ]
     },
     "execution_count": 20,
     "metadata": {},
     "output_type": "execute_result"
    }
   ],
   "source": [
    "epacems_pq.schema.pandas_metadata is None"
   ]
  },
  {
   "cell_type": "code",
   "execution_count": 21,
   "metadata": {},
   "outputs": [
    {
     "data": {
      "text/plain": [
       "[[('year', '=', 2019), ('state', '=', 'ID')],\n",
       " [('year', '=', 2019), ('state', '=', 'CO')],\n",
       " [('year', '=', 2019), ('state', '=', 'TX')],\n",
       " [('year', '=', 2020), ('state', '=', 'ID')],\n",
       " [('year', '=', 2020), ('state', '=', 'CO')],\n",
       " [('year', '=', 2020), ('state', '=', 'TX')]]"
      ]
     },
     "execution_count": 21,
     "metadata": {},
     "output_type": "execute_result"
    }
   ],
   "source": [
    "filters"
   ]
  },
  {
   "cell_type": "code",
   "execution_count": 22,
   "metadata": {},
   "outputs": [
    {
     "name": "stdout",
     "output_type": "stream",
     "text": [
      "CPU times: user 2.85 s, sys: 970 ms, total: 3.82 s\n",
      "Wall time: 2.44 s\n"
     ]
    }
   ],
   "source": [
    "%%time\n",
    "single_file_local = pd.read_parquet(\"../data/hourly_emissions_epacems.parquet\", filters=filters)"
   ]
  },
  {
   "cell_type": "code",
   "execution_count": 23,
   "metadata": {},
   "outputs": [
    {
     "name": "stdout",
     "output_type": "stream",
     "text": [
      "CPU times: user 4.71 s, sys: 967 ms, total: 5.68 s\n",
      "Wall time: 2.34 s\n"
     ]
    }
   ],
   "source": [
    "%%time\n",
    "multi_file_local = pd.read_parquet(\"../data/hourly_emissions_epacems\", filters=filters)"
   ]
  },
  {
   "cell_type": "code",
   "execution_count": 24,
   "metadata": {},
   "outputs": [
    {
     "name": "stdout",
     "output_type": "stream",
     "text": [
      "CPU times: user 4.21 s, sys: 1.19 s, total: 5.4 s\n",
      "Wall time: 13.3 s\n"
     ]
    }
   ],
   "source": [
    "%%time\n",
    "single_file_remote = pd.read_parquet(\"gs://intake.catalyst.coop/test/hourly_emissions_epacems.parquet\", filters=filters)"
   ]
  },
  {
   "cell_type": "code",
   "execution_count": 25,
   "metadata": {},
   "outputs": [
    {
     "name": "stdout",
     "output_type": "stream",
     "text": [
      "CPU times: user 14.9 s, sys: 2.79 s, total: 17.7 s\n",
      "Wall time: 34.1 s\n"
     ]
    }
   ],
   "source": [
    "%%time\n",
    "multi_file_remote = pd.read_parquet(\"gs://intake.catalyst.coop/test/hourly_emissions_epacems\", filters=filters)"
   ]
  }
 ],
 "metadata": {
  "kernelspec": {
   "display_name": "Python 3 (ipykernel)",
   "language": "python",
   "name": "python3"
  },
  "language_info": {
   "codemirror_mode": {
    "name": "ipython",
    "version": 3
   },
   "file_extension": ".py",
   "mimetype": "text/x-python",
   "name": "python",
   "nbconvert_exporter": "python",
   "pygments_lexer": "ipython3",
   "version": "3.10.4"
  },
  "toc-autonumbering": true
 },
 "nbformat": 4,
 "nbformat_minor": 4
}
